{
  "nbformat": 4,
  "nbformat_minor": 0,
  "metadata": {
    "colab": {
      "name": "Creme python library for online machine learning phishing dataset.ipynb",
      "provenance": [],
      "collapsed_sections": []
    },
    "kernelspec": {
      "name": "python3",
      "display_name": "Python 3"
    },
    "language_info": {
      "name": "python"
    }
  },
  "cells": [
    {
      "cell_type": "code",
      "execution_count": null,
      "metadata": {
        "colab": {
          "base_uri": "https://localhost:8080/"
        },
        "id": "dENWBrBTarJr",
        "outputId": "790f6c7e-64a9-4751-ba0a-fae2ff6656eb"
      },
      "outputs": [
        {
          "output_type": "stream",
          "name": "stdout",
          "text": [
            "Collecting creme\n",
            "  Downloading creme-0.6.1-cp37-cp37m-manylinux2010_x86_64.whl (1.1 MB)\n",
            "\u001b[K     |████████████████████████████████| 1.1 MB 5.2 MB/s \n",
            "\u001b[?25hCollecting mmh3==2.5.1\n",
            "  Downloading mmh3-2.5.1.tar.gz (9.8 kB)\n",
            "Requirement already satisfied: scipy>=1.4.1 in /usr/local/lib/python3.7/dist-packages (from creme) (1.4.1)\n",
            "Requirement already satisfied: pandas>=1.0.1 in /usr/local/lib/python3.7/dist-packages (from creme) (1.3.5)\n",
            "Requirement already satisfied: numpy>=1.18.1 in /usr/local/lib/python3.7/dist-packages (from creme) (1.21.5)\n",
            "Requirement already satisfied: python-dateutil>=2.7.3 in /usr/local/lib/python3.7/dist-packages (from pandas>=1.0.1->creme) (2.8.2)\n",
            "Requirement already satisfied: pytz>=2017.3 in /usr/local/lib/python3.7/dist-packages (from pandas>=1.0.1->creme) (2018.9)\n",
            "Requirement already satisfied: six>=1.5 in /usr/local/lib/python3.7/dist-packages (from python-dateutil>=2.7.3->pandas>=1.0.1->creme) (1.15.0)\n",
            "Building wheels for collected packages: mmh3\n",
            "  Building wheel for mmh3 (setup.py) ... \u001b[?25l\u001b[?25hdone\n",
            "  Created wheel for mmh3: filename=mmh3-2.5.1-cp37-cp37m-linux_x86_64.whl size=39683 sha256=bc476bde05c23ed58c2293b12f590d16bcc1ebf845fbf40233fa5241b114aaa2\n",
            "  Stored in directory: /root/.cache/pip/wheels/ae/45/25/90e097a519143b2dca74cd93a056894a965f27908103e01799\n",
            "Successfully built mmh3\n",
            "Installing collected packages: mmh3, creme\n",
            "Successfully installed creme-0.6.1 mmh3-2.5.1\n"
          ]
        }
      ],
      "source": [
        "#Installing the creme library\n",
        "!pip install creme"
      ]
    },
    {
      "cell_type": "code",
      "source": [
        "#Importing dataset form the creme library\n",
        "from creme import datasets\n",
        "A_b = datasets.Phishing()\n",
        "print(A_b)"
      ],
      "metadata": {
        "colab": {
          "base_uri": "https://localhost:8080/"
        },
        "id": "gsEy947oazz9",
        "outputId": "a061b50c-9495-4abd-c9db-91562de465c9"
      },
      "execution_count": null,
      "outputs": [
        {
          "output_type": "stream",
          "name": "stdout",
          "text": [
            "Phishing dataset\n",
            "\n",
            "              Task  Binary classification                                                \n",
            " Number of samples  1,250                                                                \n",
            "Number of features  9                                                                    \n",
            "            Sparse  False                                                                \n",
            "              Path  /usr/local/lib/python3.7/dist-packages/creme/datasets/phishing.csv.gz\n"
          ]
        }
      ]
    },
    {
      "cell_type": "code",
      "source": [
        "from pprint import pprint\n",
        "for A, b in A_b:\n",
        "    pprint(A)\n",
        "    print(\"independent variable =\", b)\n",
        "    break"
      ],
      "metadata": {
        "colab": {
          "base_uri": "https://localhost:8080/"
        },
        "id": "BeDToZSsbZdc",
        "outputId": "85e6d3be-1207-4c5a-86b4-5c64fa5483a2"
      },
      "execution_count": null,
      "outputs": [
        {
          "output_type": "stream",
          "name": "stdout",
          "text": [
            "{'age_of_domain': 1,\n",
            " 'anchor_from_other_domain': 0.0,\n",
            " 'empty_server_form_handler': 0.0,\n",
            " 'https': 0.0,\n",
            " 'ip_in_url': 1,\n",
            " 'is_popular': 0.5,\n",
            " 'long_url': 1.0,\n",
            " 'popup_window': 0.0,\n",
            " 'request_from_other_domain': 0.0}\n",
            "independent variable = True\n"
          ]
        }
      ]
    },
    {
      "cell_type": "code",
      "source": [
        "#Importing model and preprocessing from the creme library\n",
        "from creme import compose, linear_model, metrics, preprocessing"
      ],
      "metadata": {
        "id": "Sv3Fkuubjjpl"
      },
      "execution_count": null,
      "outputs": []
    },
    {
      "cell_type": "code",
      "source": [
        "#Streamlining in the pipeline the Logistic Regression and Scaling the dataset\n",
        "lm = compose.Pipeline(preprocessing.StandardScaler(), linear_model.LogisticRegression())\n",
        "pprint(lm)"
      ],
      "metadata": {
        "colab": {
          "base_uri": "https://localhost:8080/"
        },
        "id": "ZFtX_3dGkFz-",
        "outputId": "f5c9ec06-378a-42a6-a221-d7fa5dda2b07"
      },
      "execution_count": null,
      "outputs": [
        {
          "output_type": "stream",
          "name": "stdout",
          "text": [
            "Pipeline (\n",
            "  StandardScaler (),\n",
            "  LogisticRegression (\n",
            "    optimizer=SGD (\n",
            "      lr=Constant (\n",
            "        learning_rate=0.01\n",
            "      )\n",
            "    )\n",
            "    loss=Log (\n",
            "      weight_pos=1.\n",
            "      weight_neg=1.\n",
            "    )\n",
            "    l2=0.\n",
            "    intercept=0.\n",
            "    intercept_lr=Constant (\n",
            "      learning_rate=0.01\n",
            "    )\n",
            "    clip_gradient=1e+12\n",
            "    initializer=Zeros ()\n",
            "  )\n",
            ")\n"
          ]
        }
      ]
    },
    {
      "cell_type": "code",
      "source": [
        "#Making an accuracy metrics instance\n",
        "metric = metrics.Accuracy()"
      ],
      "metadata": {
        "id": "vvqSOQALlGY6"
      },
      "execution_count": null,
      "outputs": []
    },
    {
      "cell_type": "code",
      "source": [
        "#Using the metric.update module to sequentially update the model\n",
        "for A, b in A_b:\n",
        "    pred = lm.predict_one(A)\n",
        "    metric = metric.update(b, pred)\n",
        "    model = lm.fit_one(A, b)"
      ],
      "metadata": {
        "id": "BDF1S2FsmJ81"
      },
      "execution_count": null,
      "outputs": []
    },
    {
      "cell_type": "code",
      "source": [
        "print(metric)"
      ],
      "metadata": {
        "colab": {
          "base_uri": "https://localhost:8080/"
        },
        "id": "7XTXNbX9nIaC",
        "outputId": "61a52e03-8c73-4df5-df19-d4722fdb0e66"
      },
      "execution_count": null,
      "outputs": [
        {
          "output_type": "stream",
          "name": "stdout",
          "text": [
            "Accuracy: 89.20%\n"
          ]
        }
      ]
    }
  ]
}